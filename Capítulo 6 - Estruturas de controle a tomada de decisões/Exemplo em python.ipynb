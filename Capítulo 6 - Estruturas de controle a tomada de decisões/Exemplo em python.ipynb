{
 "cells": [
  {
   "cell_type": "markdown",
   "metadata": {},
   "source": [
    "# Exemplos de estruturas de controle: a tomada de decisões"
   ]
  },
  {
   "cell_type": "markdown",
   "metadata": {},
   "source": [
    "Exemplo 1: Estrutura de decisão simples"
   ]
  },
  {
   "cell_type": "code",
   "execution_count": 1,
   "metadata": {},
   "outputs": [
    {
     "name": "stdout",
     "output_type": "stream",
     "text": [
      "Fim do programa.\n"
     ]
    }
   ],
   "source": [
    "# Exemplo 1: Estrutura de decisão simples\n",
    "\n",
    "# Entrada de dados\n",
    "idade = int(input(\"Digite a sua idade: \"))\n",
    "# Processamento\n",
    "if idade >= 18:\n",
    "    print(\"Você é maior de idade.\")\n",
    "# Saída de dados\n",
    "print(\"Fim do programa.\")"
   ]
  },
  {
   "cell_type": "markdown",
   "metadata": {},
   "source": [
    "Exemplo 2: Estrutura de decisão composta"
   ]
  },
  {
   "cell_type": "code",
   "execution_count": 2,
   "metadata": {},
   "outputs": [
    {
     "name": "stdout",
     "output_type": "stream",
     "text": [
      "Você é menor de idade.\n",
      "Fim do programa.\n"
     ]
    }
   ],
   "source": [
    "# Exemplo 2: Estrutura de decisão composta\n",
    "\n",
    "# Entrada de dados\n",
    "idade = int(input(\"Digite a sua idade: \"))\n",
    "# Processamento\n",
    "if idade >= 18:\n",
    "    print(\"Você é maior de idade.\")\n",
    "else:\n",
    "    print(\"Você é menor de idade.\") \n",
    "# Saída de dados\n",
    "print(\"Fim do programa.\")\n"
   ]
  },
  {
   "cell_type": "markdown",
   "metadata": {},
   "source": [
    "Exemplo 3: Estrutura de decisão encadeada"
   ]
  },
  {
   "cell_type": "code",
   "execution_count": 4,
   "metadata": {},
   "outputs": [
    {
     "name": "stdout",
     "output_type": "stream",
     "text": [
      "Você é menor de idade, mas já pode votar.\n",
      "Fim do programa.\n"
     ]
    }
   ],
   "source": [
    "# Exemplo 3: Estrutura de decisão encadeada\n",
    "\n",
    "# Entrada de dados\n",
    "idade = int(input(\"Digite a sua idade: \"))\n",
    "# Processamento\n",
    "if idade >= 18:\n",
    "    print(\"Você é maior de idade.\")\n",
    "else:\n",
    "    # Validação encadeada\n",
    "    if idade >= 16:\n",
    "        print(\"Você é menor de idade, mas já pode votar.\")\n",
    "    else:\n",
    "        print(\"Você é menor de idade.\")\n",
    "# Saída de dados\n",
    "print(\"Fim do programa.\")\n"
   ]
  },
  {
   "cell_type": "markdown",
   "metadata": {},
   "source": [
    "Exemplo 4: Estrutura de decisão de múltipla escolha"
   ]
  },
  {
   "cell_type": "code",
   "execution_count": 6,
   "metadata": {},
   "outputs": [
    {
     "name": "stdout",
     "output_type": "stream",
     "text": [
      "Você é menor de idade, mas já pode votar.\n",
      "Fim do programa.\n"
     ]
    }
   ],
   "source": [
    "# Exemplo 4: Estrutura de decisão de múltipla escolha\n",
    "\n",
    "# Entrada de dados\n",
    "idade = int(input(\"Digite a sua idade: \"))\n",
    "# Processamento\n",
    "if idade >= 18:\n",
    "    print(\"Você é maior de idade.\")\n",
    "elif idade >= 16:\n",
    "    print(\"Você é menor de idade, mas já pode votar.\")\n",
    "else:\n",
    "    print(\"Você é menor de idade.\")\n",
    "# Saída de dados\n",
    "print(\"Fim do programa.\")\n"
   ]
  },
  {
   "cell_type": "markdown",
   "metadata": {},
   "source": [
    "Exemplo 4: Estrutura de decisão de múltipla escolha"
   ]
  },
  {
   "cell_type": "code",
   "execution_count": 10,
   "metadata": {},
   "outputs": [
    {
     "name": "stdout",
     "output_type": "stream",
     "text": [
      "Idade inválida.\n",
      "Fim do programa.\n"
     ]
    }
   ],
   "source": [
    "# Exemplo 4: Estrutura de decisão de múltipla escolha\n",
    "\n",
    "# Entrada de dados\n",
    "idade = int(input(\"Digite a sua idade: \"))\n",
    "# Processamento com switch-case\n",
    "\n",
    "def switch(idade):\n",
    "    switcher = {\n",
    "        18: \"Você é maior de idade.\",\n",
    "        16: \"Você é menor de idade, mas já pode votar.\",\n",
    "        0: \"Você é menor de idade.\"\n",
    "    }\n",
    "    return switcher.get(idade, \"Idade inválida.\")\n",
    "\n",
    "print(switch(idade))\n",
    "# Saída de dados\n",
    "print(\"Fim do programa.\")\n"
   ]
  },
  {
   "cell_type": "markdown",
   "metadata": {},
   "source": [
    "Exemplo 4: Estrutura de decisão de múltipla escolha"
   ]
  },
  {
   "cell_type": "code",
   "execution_count": 12,
   "metadata": {},
   "outputs": [
    {
     "name": "stdout",
     "output_type": "stream",
     "text": [
      "Você é maior de idade.\n",
      "Fim do programa.\n"
     ]
    }
   ],
   "source": [
    "\n",
    "# Exemplo 4: Estrutura de decisão de múltipla escolha\n",
    "\n",
    "# Entrada de dados\n",
    "idade = int(input(\"Digite a sua idade: \"))\n",
    "# Processamento com match\n",
    "match idade:\n",
    "    case 18:\n",
    "        print(\"Você é maior de idade.\")\n",
    "    case 16:\n",
    "        print(\"Você é menor de idade, mas já pode votar.\")\n",
    "    case 0:\n",
    "        print(\"Você é menor de idade.\")\n",
    "    case _:\n",
    "        print(\"Idade inválida.\")\n",
    "\n",
    "# Saída de dados\n",
    "print(\"Fim do programa.\")"
   ]
  }
 ],
 "metadata": {
  "kernelspec": {
   "display_name": "Python 3",
   "language": "python",
   "name": "python3"
  },
  "language_info": {
   "codemirror_mode": {
    "name": "ipython",
    "version": 3
   },
   "file_extension": ".py",
   "mimetype": "text/x-python",
   "name": "python",
   "nbconvert_exporter": "python",
   "pygments_lexer": "ipython3",
   "version": "3.11.5"
  }
 },
 "nbformat": 4,
 "nbformat_minor": 2
}
